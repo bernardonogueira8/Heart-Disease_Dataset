{
 "cells": [
  {
   "cell_type": "markdown",
   "id": "72e8e640-25f4-4cfa-886d-88753d02097c",
   "metadata": {},
   "source": [
    "# **Heart Disease**\n",
    "* **age**: Idade da pessoa, em anos\n",
    "* **sex**: Sexo da pessoa (1 = masculino, 0 = feminino)\n",
    "* **cp**: Tipo de dor no peito experimentada (Valor 1: angina típica, Valor 2: angina atípica, Valor 3: dor não anginosa, Valor 4: assintomático)\n",
    "* **trestbps**: Pressão arterial de repouso da pessoa (em mm Hg, medida na admissão hospitalar)\n",
    "* **chol**: Medida de colesterol da pessoa (em mg/dl)\n",
    "* **fbs**: Glicemia de jejum da pessoa (> 120 mg/dl, 1 = verdadeiro; 0 = falso)\n",
    "* **restecg**: Resultado do eletrocardiograma em repouso (0 = normal, 1 = anormalidade na onda ST-T, 2 = possível ou definitiva hipertrofia ventricular esquerda segundo os critérios de Estes)\n",
    "* **thalach**: Frequência cardíaca máxima atingida pela pessoa\n",
    "* **exang**: Angina induzida por exercício (1 = sim; 0 = não)\n",
    "* **oldpeak**: Depressão do segmento ST induzida por exercício em relação ao repouso ('ST' se refere às posições no gráfico de ECG. Veja mais aqui)\n",
    "* **slope**: Inclinação do segmento ST no pico do exercício (Valor 1: ascendente, Valor 2: plano, Valor 3: descendente)\n",
    "* **ca**: Número de vasos principais (0–3)\n",
    "* **thal**: Uma desordem sanguínea chamada talassemia (3 = normal; 6 = defeito fixo; 7 = defeito reversível)\n",
    "* **target**: Doença cardíaca (0 = Não, 1 = Sim)"
   ]
  },
  {
   "cell_type": "code",
   "execution_count": null,
   "id": "d0331d25-7a24-491e-8811-b25105637b13",
   "metadata": {},
   "outputs": [],
   "source": [
    "import numpy as np\n",
    "import pandas as pd\n",
    "import matplotlib.pyplot as plt\n",
    "%matplotlib inline\n",
    "import seaborn as sns\n",
    "sns.st_style('whitegrid')"
   ]
  },
  {
   "cell_type": "code",
   "execution_count": null,
   "id": "ec6fdb9f-4248-4465-ad93-d97ae072843c",
   "metadata": {},
   "outputs": [],
   "source": []
  }
 ],
 "metadata": {
  "kernelspec": {
   "display_name": "Python 3 (ipykernel)",
   "language": "python",
   "name": "python3"
  },
  "language_info": {
   "codemirror_mode": {
    "name": "ipython",
    "version": 3
   },
   "file_extension": ".py",
   "mimetype": "text/x-python",
   "name": "python",
   "nbconvert_exporter": "python",
   "pygments_lexer": "ipython3",
   "version": "3.13.5"
  }
 },
 "nbformat": 4,
 "nbformat_minor": 5
}
